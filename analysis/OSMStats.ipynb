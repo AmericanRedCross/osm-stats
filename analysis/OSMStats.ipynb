{
 "cells": [
  {
   "cell_type": "markdown",
   "metadata": {},
   "source": [
    "# OSM Stats Performance Analysis\n",
    "\n",
    "Analyzing logs and records of OSM Stats from the last 24 hours."
   ]
  },
  {
   "cell_type": "code",
   "execution_count": null,
   "metadata": {
    "collapsed": false
   },
   "outputs": [],
   "source": [
    "# imports and config\n",
    "%matplotlib inline\n",
    "\n",
    "import os\n",
    "import utils\n",
    "import datetime\n",
    "import json\n",
    "import pandas as pd\n",
    "import numpy as np\n",
    "import matplotlib.pyplot as plt\n",
    "\n",
    "# name of AWS services\n",
    "project = 'osmstats-test'\n",
    "\n",
    "# data storage directory\n",
    "if not os.path.exists(project):\n",
    "    os.mkdir(project)"
   ]
  },
  {
   "cell_type": "code",
   "execution_count": null,
   "metadata": {
    "collapsed": false
   },
   "outputs": [],
   "source": [
    "# get data for the last 24 hours from Kinesis\n",
    "\n",
    "fname = '%s/24hr.nljson' % (project)\n",
    "if not os.path.exists(fname):\n",
    "    utils.write_nljson(utils.fetch_stream(project), fname)\n",
    "    os.mknod('%s' % datetime.datetime.now().isoformat())\n",
    "    \n",
    "# read in records\n",
    "data = utils.read_nljson(fname)\n",
    "\n",
    "# create DataFrame of record metadata\n",
    "records = utils.dicts2DataFrame([json.loads(d['Data'])['metadata'] for d in data])\n",
    "records['timeadded'] = pd.to_datetime([d['ApproximateArrivalTimestamp'] for d in data])\n",
    "records = records.set_index('timeadded')"
   ]
  },
  {
   "cell_type": "code",
   "execution_count": null,
   "metadata": {
    "collapsed": false,
    "scrolled": false
   },
   "outputs": [],
   "source": [
    "print 'There are %s records in the Kinesis stream' % len(records)\n",
    "\n",
    "# aggregate to minute\n",
    "by_minute = records['num_changes'].groupby(pd.TimeGrouper(freq='1Min'))\n",
    "\n",
    "# print and plot changesets/minute\n",
    "by_minute_size = by_minute.size()\n",
    "print 'Data spans %s minutes between %s and %s' % (\n",
    "    by_minute_size.size, records.index.min(), records.index.max())\n",
    "print 'Data gathered during %s minutes' % by_minute_size[by_minute_size > 0].size\n",
    "plt.figure(figsize=(18, 6))\n",
    "by_minute_size.plot(title='Records/minute')"
   ]
  },
  {
   "cell_type": "code",
   "execution_count": null,
   "metadata": {
    "collapsed": false
   },
   "outputs": [],
   "source": [
    "print records"
   ]
  },
  {
   "cell_type": "code",
   "execution_count": null,
   "metadata": {
    "collapsed": false
   },
   "outputs": [],
   "source": [
    "print records.columns"
   ]
  },
  {
   "cell_type": "code",
   "execution_count": null,
   "metadata": {
    "collapsed": true
   },
   "outputs": [],
   "source": []
  }
 ],
 "metadata": {
  "kernelspec": {
   "display_name": "Python 2",
   "language": "python",
   "name": "python2"
  },
  "language_info": {
   "codemirror_mode": {
    "name": "ipython",
    "version": 2
   },
   "file_extension": ".py",
   "mimetype": "text/x-python",
   "name": "python",
   "nbconvert_exporter": "python",
   "pygments_lexer": "ipython2",
   "version": "2.7.6"
  }
 },
 "nbformat": 4,
 "nbformat_minor": 0
}
